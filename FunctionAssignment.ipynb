{
  "nbformat": 4,
  "nbformat_minor": 0,
  "metadata": {
    "colab": {
      "provenance": []
    },
    "kernelspec": {
      "name": "python3",
      "display_name": "Python 3"
    },
    "language_info": {
      "name": "python"
    }
  },
  "cells": [
    {
      "cell_type": "markdown",
      "source": [
        "**Theory Questions:**"
      ],
      "metadata": {
        "id": "SzqlUgUHLXg1"
      }
    },
    {
      "cell_type": "markdown",
      "source": [
        "Q1.What is the difference between a function and a method in Python?"
      ],
      "metadata": {
        "id": "1Cwu4BJ3Lb7s"
      }
    },
    {
      "cell_type": "markdown",
      "source": [
        "Ans.In python function and methods are similiar in that they both are uses for reusable , neat,clean and organised code.But they are differ in some context:\n",
        "\n",
        "Function:\n",
        "\n",
        "1.It defined outside a class.\n",
        "\n",
        "2.function is not bound to any specific object\n",
        "\n",
        "3.can be called independently.\n",
        "\n",
        "for e.g\n",
        "\n",
        "    def greet(name):\n",
        "\n",
        "      return name\n",
        "    print(greet(\"Hello Shubham\"))\n",
        "\n",
        "Method:\n",
        "\n",
        "1.If defined inside a class\n",
        "\n",
        "2.Bound to object or the class itself.\n",
        "\n",
        "3.Access to onject via self or class.\n",
        "\n",
        "for e.g\n",
        "\n",
        "    class Greeter:\n",
        "      def greet(self, name):\n",
        "        return name\n",
        "    greeter = Greeter()\n",
        "    print(greeter.greet(\"Shubham\"))"
      ],
      "metadata": {
        "id": "qNtXR98LLfYE"
      }
    },
    {
      "cell_type": "markdown",
      "source": [
        "Q2.Explain the concept of function arguments and parameters in Python."
      ],
      "metadata": {
        "id": "SdOAqQteO8ID"
      }
    },
    {
      "cell_type": "markdown",
      "source": [
        "Ans.**Parameters:** Parameters defined the inputs a function expects.\n",
        "\n",
        "**Argument:** Arguments are the actual inputs provided when the function is invoked.\n",
        "\n",
        "for e.g\n",
        "\n",
        "    def greet(name):  # 'name' is a parameter\n",
        "\n",
        "      print(name)\n",
        "\n",
        "    greet(\"Shubham\")  # \"Shubham\" is a argument.\n",
        "\n",
        ".\n",
        "\n"
      ],
      "metadata": {
        "id": "pgOLAmnhPAF7"
      }
    },
    {
      "cell_type": "markdown",
      "source": [
        "Q3.What are the different ways to define and call a function in Python?"
      ],
      "metadata": {
        "id": "MMMf4h0fQuo6"
      }
    },
    {
      "cell_type": "markdown",
      "source": [
        "Ans.**1.Regular Function :** It use def keyword\n",
        "\n",
        "    def greet(name):  # 'name' is a parameter\n",
        "\n",
        "      print(name)\n",
        "\n",
        "    greet(\"Shubham\")  # \"Shubham\" is a argument.\n",
        "\n",
        "**2.Function with Default Arguments:** Provide default values for parameters.With or without overriding the default values.\n",
        "\n",
        "    def greet(name=\"Priyanka\"):\n",
        "        return f\"Hello, {name}!\"\n",
        "\n",
        "    print(greet())           # Output: Hello, Priyanka!\n",
        "    print(greet(\"Shubham\"))    # Output: Hello, Shubham!\n",
        "\n",
        "**3.Function with Variable-Length Arguments:** Use *args for variable positional arguments and **kwargs for variable keyword arguments.Pass any number of positional or keyword arguments.\n",
        "\n",
        "    def summarize(*args, **kwargs):\n",
        "        print(\"Positional args:\", args)\n",
        "        print(\"Keyword args:\", kwargs)\n",
        "\n",
        "    summarize(1, 2, 3, name=\"Alice\", age=25)\n"
      ],
      "metadata": {
        "id": "OYnLPTyVQ4FK"
      }
    },
    {
      "cell_type": "markdown",
      "source": [
        "Q4. What is the purpose of the `return` statement in a Python function?"
      ],
      "metadata": {
        "id": "JT_KS7eRSkly"
      }
    },
    {
      "cell_type": "markdown",
      "source": [
        "Ans. The return statement in a Python function is used to:\n",
        "\n",
        "1.Send a Result Back to the Caller:It specifies the value that the function will return to the part of the program that called it.\n",
        "\n",
        "2.Terminate the Function:It ends the function's execution and optionally returns a value. Once the return statement is executed, the function stops running further code.\n",
        "\n",
        "3.Facilitate Reusability: By returning a value, the result can be reused elsewhere in the program, enabling composability.\n",
        "\n",
        "for e.g.\n",
        "\n",
        "    def greet(name=\"Priyanka\"):\n",
        "        return f\"Hello, {name}!\"\n",
        "\n",
        "    print(greet())           # Output: Hello, Priyanka!\n",
        "    print(greet(\"Shubham\"))    # Output: Hello, Shubham!"
      ],
      "metadata": {
        "id": "q1VRRxJESodp"
      }
    },
    {
      "cell_type": "markdown",
      "source": [
        "Q5.What are iterators in Python and how do they differ from iterables?"
      ],
      "metadata": {
        "id": "MYrYoQQzTczR"
      }
    },
    {
      "cell_type": "markdown",
      "source": [
        "Ans.Iterator : An iterator is an object representing a stream of data that return the data one by one.\n",
        "\n",
        "Iterables: An iterable is any python object/sequential structure/data that is capable of returning its members once at a time."
      ],
      "metadata": {
        "id": "K4WIBCKJTiJ4"
      }
    },
    {
      "cell_type": "markdown",
      "source": [
        "Q6.Explain the concept of generators in Python and how they are defined."
      ],
      "metadata": {
        "id": "CSYy6Bo-UVjB"
      }
    },
    {
      "cell_type": "markdown",
      "source": [
        "Ans.It generates values one at a time as they are needed, instead of creating the entire sequence in memory at once.\n",
        "\n",
        "Generators are particularly useful for working with large datasets or infinite sequences, as they save memory and improve performance.\n",
        "\n",
        "Key Features:\n",
        "\n",
        "1.Use Yield Instead of Return:\n",
        "\n",
        "2.Iterator Protocol: Generators are iterators, meaning you can use them with a for loop, or manually iterate using next().\n",
        "\n",
        "    def infinite_numbers():\n",
        "        num = 0\n",
        "        while True:\n",
        "            yield num\n",
        "            num += 1  "
      ],
      "metadata": {
        "id": "eo7eje-VUZow"
      }
    },
    {
      "cell_type": "markdown",
      "source": [
        "Q7.What are the advantages of using generators over regular functions?"
      ],
      "metadata": {
        "id": "_bTYDrOrVWPA"
      }
    },
    {
      "cell_type": "markdown",
      "source": [
        "Ans. **Generators:**\n",
        "\n",
        "1.Memory Efficiency: Generators do not compute all the values at once and store them in memory.Instead, they generate values one by one as needed.\n",
        "\n",
        "For e.g.\n",
        "\n",
        "    def get_numbers_list(n):\n",
        "        return [i for i in range(n)]\n",
        "\n",
        "    # Generator producing numbers one by one\n",
        "    def get_numbers_gen(n):\n",
        "        for i in range(n):\n",
        "            yield i\n",
        "\n",
        "    # Comparing memory usage\n",
        "    numbers = get_numbers_gen(10**6)  # Does not store all numbers in memory\n",
        "\n",
        "2.Improved Performance:  Generators avoid the overhead of creating and managing large data structures, leading to faster execution for certain tasks.\n",
        "\n",
        "For e.g.\n",
        "\n",
        "    def compute_squares_gen(n):\n",
        "        for i in range(n):\n",
        "            yield i ** 2\n",
        "\n",
        "    squares = compute_squares_gen(5)\n",
        "    for square in squares:\n",
        "        print(square)\n",
        "\n",
        "**Regular function:**\n",
        "\n",
        "1.Memory Efficiency: Stores entire output in memory and all values computed at once.\n",
        "\n",
        "2.Useful for finite and small datasets"
      ],
      "metadata": {
        "id": "96RpbPaLVdsg"
      }
    },
    {
      "cell_type": "markdown",
      "source": [
        "Q8. What is a lambda function in Python and when is it typically used?"
      ],
      "metadata": {
        "id": "UYt01bvKXAgA"
      }
    },
    {
      "cell_type": "markdown",
      "source": [
        "Ans. A lambda function in Python is a small, anonymous function defined using the **lambda keyword.** Unlike regular functions defined with the **def** keyword, a lambda function **can have only a single expression, which is evaluated and returned.**\n",
        "\n",
        "When Are Lambda Functions Typically Used?\n",
        "\n",
        "1.Short, Simple Functions:\n",
        "\n",
        "2.As Arguments to Higher-Order Functions:\n",
        "\n",
        "3.For Writing Quick and Concise Code:\n",
        "\n",
        "4.In Data Processing Pipelines:"
      ],
      "metadata": {
        "id": "gKXDIORFXF23"
      }
    },
    {
      "cell_type": "markdown",
      "source": [
        "Q9. Explain the purpose and usage of the `map()` function in Python."
      ],
      "metadata": {
        "id": "ib1NnxLXXjwI"
      }
    },
    {
      "cell_type": "markdown",
      "source": [
        "Ans.The map() function in Python is used to apply a given function to all items in an iterable For e.g., list, tuple.\n",
        "\n",
        "Purpose of map()\n",
        "\n",
        "1.To transform or process each element in an iterable without explicitly writing a loop.\n",
        "\n",
        "2.It allows concise and efficient application of a function to multiple elements.\n",
        "\n",
        "For e.g.\n",
        "\n",
        "    def square(x):\n",
        "        return x ** 2\n",
        "\n",
        "    numbers = [1, 2, 3, 4, 5]\n",
        "    squared_numbers = map(square, numbers)\n",
        "    print(list(squared_numbers))  # Output: [1, 4, 9, 16, 25]"
      ],
      "metadata": {
        "id": "Fgdzoc9dXnVH"
      }
    },
    {
      "cell_type": "markdown",
      "source": [
        "Q10.What is the difference between `map()`, `reduce()`, and `filter()` functions in Python?"
      ],
      "metadata": {
        "id": "4U3eKzt7YX5H"
      }
    },
    {
      "cell_type": "markdown",
      "source": [
        "Ans.**Purpose:**\n",
        "\n",
        "1.Map: Transform each item in an iterable.\n",
        "\n",
        "2.Filter: Select items based on a condition.\n",
        "\n",
        "3.Reduce: Reduce iterable to a single value.\n",
        "\n",
        "**Input Function**\n",
        "\n",
        "1.Map: Any function.\n",
        "\n",
        "2.Filter: Function returning True or False.\n",
        "\n",
        "3.Reduce: Function taking two arguments\n",
        "\n",
        "**Number of Iterables**\n",
        "\n",
        "1.Map: One or more\n",
        "\n",
        "2.Filter: One\n",
        "\n",
        "3.Reduce: One\n"
      ],
      "metadata": {
        "id": "V6Atg0qHYbDf"
      }
    },
    {
      "cell_type": "markdown",
      "source": [
        "Q11. Using pen & Paper write the internal mechanism for sum operation using  reduce function on this given\n",
        "list:[47,11,42,13];"
      ],
      "metadata": {
        "id": "jTUwoa0xZaz3"
      }
    },
    {
      "cell_type": "markdown",
      "source": [],
      "metadata": {
        "id": "l3hH3kPcZeg3"
      }
    },
    {
      "cell_type": "markdown",
      "source": [
        "**Practical Questions:**"
      ],
      "metadata": {
        "id": "3nssOYYKZhwv"
      }
    },
    {
      "cell_type": "markdown",
      "source": [
        "Q1.Write a Python function that takes a list of numbers as input and returns the sum of all even numbers in\n",
        "the list."
      ],
      "metadata": {
        "id": "jQ7OJSixZjsY"
      }
    },
    {
      "cell_type": "code",
      "source": [
        "def sum_of_even_numbers(numbers):\n",
        "\n",
        "  return sum(num for num in numbers if num % 2 == 0)\n",
        "\n",
        "numbers_list = [1, 2, 3, 4, 5, 6]\n",
        "result = sum_of_even_numbers(numbers_list)\n",
        "print(f\"The sum of even numbers in the list is: {result}\")"
      ],
      "metadata": {
        "colab": {
          "base_uri": "https://localhost:8080/"
        },
        "id": "KE7WHhAzZnnH",
        "outputId": "d66a072c-888f-4c85-e65f-9b6f14a19f0d"
      },
      "execution_count": 1,
      "outputs": [
        {
          "output_type": "stream",
          "name": "stdout",
          "text": [
            "The sum of even numbers in the list is: 12\n"
          ]
        }
      ]
    },
    {
      "cell_type": "markdown",
      "source": [
        "Q2.Create a Python function that accepts a string and returns the reverse of that string."
      ],
      "metadata": {
        "id": "8cgyIS1ZZ-N_"
      }
    },
    {
      "cell_type": "code",
      "source": [
        "def reverse_string(input_string):\n",
        "    return input_string[::-1]\n",
        "\n",
        "input_str = \"hello\"\n",
        "reversed_str = reverse_string(input_str)\n",
        "print(reversed_str)"
      ],
      "metadata": {
        "colab": {
          "base_uri": "https://localhost:8080/"
        },
        "id": "AOdFGOv8aBom",
        "outputId": "fbc45163-a8ec-4957-abef-2fb831727a58"
      },
      "execution_count": 2,
      "outputs": [
        {
          "output_type": "stream",
          "name": "stdout",
          "text": [
            "olleh\n"
          ]
        }
      ]
    },
    {
      "cell_type": "markdown",
      "source": [
        "Q3. Implement a Python function that takes a list of integers and returns a new list containing the squares of\n",
        "each number."
      ],
      "metadata": {
        "id": "gy21LEQna-du"
      }
    },
    {
      "cell_type": "code",
      "source": [
        "def square_numbers(input_list):\n",
        "    return [x ** 2 for x in input_list]\n",
        "\n",
        "\n",
        "numbers = [1, 2, 3, 4, 5]\n",
        "squared_numbers = square_numbers(numbers)\n",
        "print(squared_numbers)"
      ],
      "metadata": {
        "colab": {
          "base_uri": "https://localhost:8080/"
        },
        "id": "vB-576YTbCmH",
        "outputId": "b69e9ea1-d548-419d-ed07-7a844447d421"
      },
      "execution_count": 4,
      "outputs": [
        {
          "output_type": "stream",
          "name": "stdout",
          "text": [
            "[1, 4, 9, 16, 25]\n"
          ]
        }
      ]
    },
    {
      "cell_type": "markdown",
      "source": [
        "Q4.Write a Python function that checks if a given number is prime or not from 1 to 200."
      ],
      "metadata": {
        "id": "4vvAxoOibLi-"
      }
    },
    {
      "cell_type": "code",
      "source": [
        "def is_prime(number):\n",
        "    if number < 2 or number > 200:\n",
        "        return False\n",
        "    for i in range(2, 201,2):\n",
        "        if number % i == 0:\n",
        "            return False\n",
        "    return True\n",
        "\n",
        "\n",
        "number = 29\n",
        "print(is_prime(number))"
      ],
      "metadata": {
        "colab": {
          "base_uri": "https://localhost:8080/"
        },
        "id": "CzBw6wxFbOem",
        "outputId": "f951530e-2c42-404f-fc72-f465ff593c53"
      },
      "execution_count": 8,
      "outputs": [
        {
          "output_type": "stream",
          "name": "stdout",
          "text": [
            "True\n"
          ]
        }
      ]
    },
    {
      "cell_type": "markdown",
      "source": [
        "Q5.Create an iterator class in Python that generates the Fibonacci sequence up to a specified number of\n",
        "terms."
      ],
      "metadata": {
        "id": "JUAzQD2Sbpc2"
      }
    },
    {
      "cell_type": "code",
      "source": [
        "class FibonacciIterator:\n",
        "    def __init__(self, terms):\n",
        "        self.terms = terms\n",
        "        self.count = 0\n",
        "        self.a, self.b = 0, 1\n",
        "\n",
        "    def __iter__(self):\n",
        "        return self\n",
        "\n",
        "    def __next__(self):\n",
        "        if self.count < self.terms:\n",
        "            current = self.a\n",
        "            self.a, self.b = self.b, self.a + self.b\n",
        "            self.count += 1\n",
        "            return current\n",
        "        else:\n",
        "            raise StopIteration\n",
        "\n",
        "\n",
        "fibonacci_sequence = FibonacciIterator(10)\n",
        "for num in fibonacci_sequence:\n",
        "    print(num)"
      ],
      "metadata": {
        "colab": {
          "base_uri": "https://localhost:8080/"
        },
        "id": "lXCZPNzGbrx2",
        "outputId": "fc35e9a8-77a2-473b-812b-1efaa6d4ef3b"
      },
      "execution_count": 9,
      "outputs": [
        {
          "output_type": "stream",
          "name": "stdout",
          "text": [
            "0\n",
            "1\n",
            "1\n",
            "2\n",
            "3\n",
            "5\n",
            "8\n",
            "13\n",
            "21\n",
            "34\n"
          ]
        }
      ]
    },
    {
      "cell_type": "markdown",
      "source": [
        "Q6. Write a generator function in Python that yields the powers of 2 up to a given exponent."
      ],
      "metadata": {
        "id": "EItic6rsb2T-"
      }
    },
    {
      "cell_type": "code",
      "source": [
        "def powers_of_two(exponent):\n",
        "    for i in range(exponent + 1):\n",
        "        yield 2 ** i\n",
        "\n",
        "\n",
        "for power in powers_of_two(5):\n",
        "    print(power)"
      ],
      "metadata": {
        "colab": {
          "base_uri": "https://localhost:8080/"
        },
        "id": "LKu7goWob5yG",
        "outputId": "1e8b8b52-2194-47be-b0c2-04f5d5413cd3"
      },
      "execution_count": 10,
      "outputs": [
        {
          "output_type": "stream",
          "name": "stdout",
          "text": [
            "1\n",
            "2\n",
            "4\n",
            "8\n",
            "16\n",
            "32\n"
          ]
        }
      ]
    },
    {
      "cell_type": "markdown",
      "source": [
        "Q7. Implement a generator function that reads a file line by line and yields each line as a string."
      ],
      "metadata": {
        "id": "QK5qMz-jcBdO"
      }
    },
    {
      "cell_type": "code",
      "source": [],
      "metadata": {
        "id": "zMGbj_RUcEO3"
      },
      "execution_count": null,
      "outputs": []
    },
    {
      "cell_type": "markdown",
      "source": [
        "Q8. Use a lambda function in Python to sort a list of tuples based on the second element of each tuple"
      ],
      "metadata": {
        "id": "WdzjPvIycMPu"
      }
    },
    {
      "cell_type": "code",
      "source": [
        "tuples_list = [(1, 4), (2, 2), (3, 6), (4, 1)]\n",
        "sorted_list = sorted(tuples_list, key=lambda x: x[1])\n",
        "print(sorted_list)"
      ],
      "metadata": {
        "colab": {
          "base_uri": "https://localhost:8080/"
        },
        "id": "ylr8We1tcQA2",
        "outputId": "e61755bb-a091-4cd3-8c92-0d17c351d5e1"
      },
      "execution_count": 12,
      "outputs": [
        {
          "output_type": "stream",
          "name": "stdout",
          "text": [
            "[(4, 1), (2, 2), (1, 4), (3, 6)]\n"
          ]
        }
      ]
    },
    {
      "cell_type": "markdown",
      "source": [
        "Q9. Write a Python program that uses `map()` to convert a list of temperatures from Celsius to Fahrenheit."
      ],
      "metadata": {
        "id": "YrErmuKicytd"
      }
    },
    {
      "cell_type": "code",
      "source": [
        "celsius_temperatures = [0, 10, 20, 30, 40, 50]\n",
        "def celsius_to_fahrenheit(celsius):\n",
        "    return (celsius * 9/5) + 32\n",
        "fahrenheit_temperatures = list(map(celsius_to_fahrenheit, celsius_temperatures))\n",
        "print(fahrenheit_temperatures)"
      ],
      "metadata": {
        "colab": {
          "base_uri": "https://localhost:8080/"
        },
        "id": "6R3sSP8zcz4O",
        "outputId": "2f610bd4-6fe5-4425-e72b-ce45478bf63f"
      },
      "execution_count": 13,
      "outputs": [
        {
          "output_type": "stream",
          "name": "stdout",
          "text": [
            "[32.0, 50.0, 68.0, 86.0, 104.0, 122.0]\n"
          ]
        }
      ]
    },
    {
      "cell_type": "markdown",
      "source": [
        "Q10.Create a Python program that uses `filter()` to remove all the vowels from a given string."
      ],
      "metadata": {
        "id": "6l7W5YLDdEdV"
      }
    },
    {
      "cell_type": "code",
      "source": [
        "def remove_vowels(char):\n",
        "    vowels = \"aeiouAEIOU\"\n",
        "    return char not in vowels\n",
        "input_string = \"Hello, World!\"\n",
        "\n",
        "filtered_string = ''.join(filter(remove_vowels, input_string))\n",
        "\n",
        "print(filtered_string)"
      ],
      "metadata": {
        "colab": {
          "base_uri": "https://localhost:8080/"
        },
        "id": "OapQk0hzdH5l",
        "outputId": "b202e2b6-7640-4d1c-8866-88fc29dc62cb"
      },
      "execution_count": 14,
      "outputs": [
        {
          "output_type": "stream",
          "name": "stdout",
          "text": [
            "Hll, Wrld!\n"
          ]
        }
      ]
    }
  ]
}